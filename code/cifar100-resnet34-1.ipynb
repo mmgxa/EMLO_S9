{
 "cells": [
  {
   "cell_type": "code",
   "execution_count": 2,
   "id": "fa09ad09",
   "metadata": {},
   "outputs": [
    {
     "data": {
      "text/plain": [
       "'us-east-2'"
      ]
     },
     "execution_count": 2,
     "metadata": {},
     "output_type": "execute_result"
    }
   ],
   "source": [
    "import boto3\n",
    "\n",
    "region_name = boto3.Session().region_name\n",
    "region_name"
   ]
  },
  {
   "cell_type": "code",
   "execution_count": 3,
   "id": "7916136c",
   "metadata": {},
   "outputs": [
    {
     "data": {
      "text/plain": [
       "'arn:aws:iam::410330524497:role/service-role/AmazonSageMaker-ExecutionRole-20220129T122788'"
      ]
     },
     "execution_count": 3,
     "metadata": {},
     "output_type": "execute_result"
    }
   ],
   "source": [
    "import sagemaker\n",
    "\n",
    "sagemaker_session = sagemaker.Session()\n",
    "role = sagemaker.get_execution_role()\n",
    "role"
   ]
  },
  {
   "cell_type": "code",
   "execution_count": 4,
   "id": "3b30c335",
   "metadata": {},
   "outputs": [],
   "source": [
    "s3_bucket = 'my-cifar100-s3-bucket' \n",
    "prefix = 'sagemaker/pytorch-cifar100'"
   ]
  },
  {
   "cell_type": "code",
   "execution_count": 5,
   "id": "4dc7ab43",
   "metadata": {},
   "outputs": [
    {
     "data": {
      "text/plain": [
       "'s3://my-cifar100-s3-bucket/checkpoint-ab8fa9e3'"
      ]
     },
     "execution_count": 5,
     "metadata": {},
     "output_type": "execute_result"
    }
   ],
   "source": [
    "import uuid\n",
    "\n",
    "checkpoint_suffix = str(uuid.uuid4())[:8]\n",
    "checkpoint_s3_path = f's3://{s3_bucket}/checkpoint-{checkpoint_suffix}'\n",
    "checkpoint_s3_path"
   ]
  },
  {
   "cell_type": "code",
   "execution_count": 6,
   "id": "2fca138c",
   "metadata": {},
   "outputs": [
    {
     "name": "stdout",
     "output_type": "stream",
     "text": [
      "Files already downloaded and verified\n",
      "Files already downloaded and verified\n",
      "Files already downloaded and verified\n"
     ]
    }
   ],
   "source": [
    "from utils_cifar import get_train_data_loader, get_test_data_loader, imshow, classes\n",
    "\n",
    "trainloader = get_train_data_loader()\n",
    "testloader = get_test_data_loader()"
   ]
  },
  {
   "cell_type": "code",
   "execution_count": 7,
   "id": "dbdb71db",
   "metadata": {},
   "outputs": [
    {
     "name": "stdout",
     "output_type": "stream",
     "text": [
      "input spec (in this case, just an S3 path): s3://my-cifar100-s3-bucket/data/cifar100\n"
     ]
    }
   ],
   "source": [
    "training_input_path = sagemaker_session.upload_data(path='data', bucket=s3_bucket, key_prefix='data/cifar100')\n",
    "print(f'input spec (in this case, just an S3 path): {training_input_path}')"
   ]
  },
  {
   "cell_type": "markdown",
   "id": "bd5a8e7f",
   "metadata": {},
   "source": [
    "## Training"
   ]
  },
  {
   "cell_type": "code",
   "execution_count": 8,
   "id": "651c4ed6",
   "metadata": {},
   "outputs": [],
   "source": [
    "from sagemaker.pytorch import PyTorch\n",
    "\n",
    "hyperparameters = {'epochs': 1}\n",
    "\n",
    "\n",
    "estimator = PyTorch(entry_point='cifar100.py',\n",
    "                    role=role,\n",
    "                    py_version='py3',\n",
    "                    framework_version='1.7.1',\n",
    "                    instance_type='ml.m4.xlarge',\n",
    "                    instance_count=1,\n",
    "                    hyperparameters=hyperparameters,\n",
    "                    base_job_name='cifar100-resnet34',\n",
    "                    checkpoint_s3_uri = checkpoint_s3_path,\n",
    "                    debugger_hook_config = False,\n",
    "                    )"
   ]
  },
  {
   "cell_type": "code",
   "execution_count": 9,
   "id": "b5a9e786",
   "metadata": {},
   "outputs": [
    {
     "name": "stdout",
     "output_type": "stream",
     "text": [
      "2022-01-29 14:07:42 Starting - Starting the training job...\n",
      "2022-01-29 14:07:44 Starting - Launching requested ML instancesProfilerReport-1643465261: InProgress\n",
      "...\n",
      "2022-01-29 14:08:31 Starting - Preparing the instances for training.........\n",
      "2022-01-29 14:10:12 Downloading - Downloading input data...\n",
      "2022-01-29 14:10:43 Training - Downloading the training image...\n",
      "2022-01-29 14:11:11 Training - Training image download completed. Training in progress..\u001b[34mbash: cannot set terminal process group (-1): Inappropriate ioctl for device\u001b[0m\n",
      "\u001b[34mbash: no job control in this shell\u001b[0m\n",
      "\u001b[34m2022-01-29 14:11:12,680 sagemaker-training-toolkit INFO     Imported framework sagemaker_pytorch_container.training\u001b[0m\n",
      "\u001b[34m2022-01-29 14:11:12,682 sagemaker-training-toolkit INFO     No GPUs detected (normal if no gpus installed)\u001b[0m\n",
      "\u001b[34m2022-01-29 14:11:12,695 sagemaker_pytorch_container.training INFO     Block until all host DNS lookups succeed.\u001b[0m\n",
      "\u001b[34m2022-01-29 14:11:12,704 sagemaker_pytorch_container.training INFO     Invoking user training script.\u001b[0m\n",
      "\u001b[34m2022-01-29 14:11:13,207 sagemaker-training-toolkit INFO     No GPUs detected (normal if no gpus installed)\u001b[0m\n",
      "\u001b[34m2022-01-29 14:11:13,233 sagemaker-training-toolkit INFO     No GPUs detected (normal if no gpus installed)\u001b[0m\n",
      "\u001b[34m2022-01-29 14:11:13,257 sagemaker-training-toolkit INFO     No GPUs detected (normal if no gpus installed)\u001b[0m\n",
      "\u001b[34m2022-01-29 14:11:13,275 sagemaker-training-toolkit INFO     Invoking user script\u001b[0m\n",
      "\u001b[34mTraining Env:\u001b[0m\n",
      "\u001b[34m{\n",
      "    \"additional_framework_parameters\": {},\n",
      "    \"channel_input_dirs\": {\n",
      "        \"training\": \"/opt/ml/input/data/training\"\n",
      "    },\n",
      "    \"current_host\": \"algo-1\",\n",
      "    \"framework_module\": \"sagemaker_pytorch_container.training:main\",\n",
      "    \"hosts\": [\n",
      "        \"algo-1\"\n",
      "    ],\n",
      "    \"hyperparameters\": {\n",
      "        \"epochs\": 1\n",
      "    },\n",
      "    \"input_config_dir\": \"/opt/ml/input/config\",\n",
      "    \"input_data_config\": {\n",
      "        \"training\": {\n",
      "            \"TrainingInputMode\": \"File\",\n",
      "            \"S3DistributionType\": \"FullyReplicated\",\n",
      "            \"RecordWrapperType\": \"None\"\n",
      "        }\n",
      "    },\n",
      "    \"input_dir\": \"/opt/ml/input\",\n",
      "    \"is_master\": true,\n",
      "    \"job_name\": \"cifar100-resnet34-2022-01-29-14-07-41-844\",\n",
      "    \"log_level\": 20,\n",
      "    \"master_hostname\": \"algo-1\",\n",
      "    \"model_dir\": \"/opt/ml/model\",\n",
      "    \"module_dir\": \"s3://sagemaker-us-east-2-410330524497/cifar100-resnet34-2022-01-29-14-07-41-844/source/sourcedir.tar.gz\",\n",
      "    \"module_name\": \"cifar100\",\n",
      "    \"network_interface_name\": \"eth0\",\n",
      "    \"num_cpus\": 4,\n",
      "    \"num_gpus\": 0,\n",
      "    \"output_data_dir\": \"/opt/ml/output/data\",\n",
      "    \"output_dir\": \"/opt/ml/output\",\n",
      "    \"output_intermediate_dir\": \"/opt/ml/output/intermediate\",\n",
      "    \"resource_config\": {\n",
      "        \"current_host\": \"algo-1\",\n",
      "        \"hosts\": [\n",
      "            \"algo-1\"\n",
      "        ],\n",
      "        \"network_interface_name\": \"eth0\"\n",
      "    },\n",
      "    \"user_entry_point\": \"cifar100.py\"\u001b[0m\n",
      "\u001b[34m}\u001b[0m\n",
      "\u001b[34mEnvironment variables:\u001b[0m\n",
      "\u001b[34mSM_HOSTS=[\"algo-1\"]\u001b[0m\n",
      "\u001b[34mSM_NETWORK_INTERFACE_NAME=eth0\u001b[0m\n",
      "\u001b[34mSM_HPS={\"epochs\":1}\u001b[0m\n",
      "\u001b[34mSM_USER_ENTRY_POINT=cifar100.py\u001b[0m\n",
      "\u001b[34mSM_FRAMEWORK_PARAMS={}\u001b[0m\n",
      "\u001b[34mSM_RESOURCE_CONFIG={\"current_host\":\"algo-1\",\"hosts\":[\"algo-1\"],\"network_interface_name\":\"eth0\"}\u001b[0m\n",
      "\u001b[34mSM_INPUT_DATA_CONFIG={\"training\":{\"RecordWrapperType\":\"None\",\"S3DistributionType\":\"FullyReplicated\",\"TrainingInputMode\":\"File\"}}\u001b[0m\n",
      "\u001b[34mSM_OUTPUT_DATA_DIR=/opt/ml/output/data\u001b[0m\n",
      "\u001b[34mSM_CHANNELS=[\"training\"]\u001b[0m\n",
      "\u001b[34mSM_CURRENT_HOST=algo-1\u001b[0m\n",
      "\u001b[34mSM_MODULE_NAME=cifar100\u001b[0m\n",
      "\u001b[34mSM_LOG_LEVEL=20\u001b[0m\n",
      "\u001b[34mSM_FRAMEWORK_MODULE=sagemaker_pytorch_container.training:main\u001b[0m\n",
      "\u001b[34mSM_INPUT_DIR=/opt/ml/input\u001b[0m\n",
      "\u001b[34mSM_INPUT_CONFIG_DIR=/opt/ml/input/config\u001b[0m\n",
      "\u001b[34mSM_OUTPUT_DIR=/opt/ml/output\u001b[0m\n",
      "\u001b[34mSM_NUM_CPUS=4\u001b[0m\n",
      "\u001b[34mSM_NUM_GPUS=0\u001b[0m\n",
      "\u001b[34mSM_MODEL_DIR=/opt/ml/model\u001b[0m\n",
      "\u001b[34mSM_MODULE_DIR=s3://sagemaker-us-east-2-410330524497/cifar100-resnet34-2022-01-29-14-07-41-844/source/sourcedir.tar.gz\u001b[0m\n",
      "\u001b[34mSM_TRAINING_ENV={\"additional_framework_parameters\":{},\"channel_input_dirs\":{\"training\":\"/opt/ml/input/data/training\"},\"current_host\":\"algo-1\",\"framework_module\":\"sagemaker_pytorch_container.training:main\",\"hosts\":[\"algo-1\"],\"hyperparameters\":{\"epochs\":1},\"input_config_dir\":\"/opt/ml/input/config\",\"input_data_config\":{\"training\":{\"RecordWrapperType\":\"None\",\"S3DistributionType\":\"FullyReplicated\",\"TrainingInputMode\":\"File\"}},\"input_dir\":\"/opt/ml/input\",\"is_master\":true,\"job_name\":\"cifar100-resnet34-2022-01-29-14-07-41-844\",\"log_level\":20,\"master_hostname\":\"algo-1\",\"model_dir\":\"/opt/ml/model\",\"module_dir\":\"s3://sagemaker-us-east-2-410330524497/cifar100-resnet34-2022-01-29-14-07-41-844/source/sourcedir.tar.gz\",\"module_name\":\"cifar100\",\"network_interface_name\":\"eth0\",\"num_cpus\":4,\"num_gpus\":0,\"output_data_dir\":\"/opt/ml/output/data\",\"output_dir\":\"/opt/ml/output\",\"output_intermediate_dir\":\"/opt/ml/output/intermediate\",\"resource_config\":{\"current_host\":\"algo-1\",\"hosts\":[\"algo-1\"],\"network_interface_name\":\"eth0\"},\"user_entry_point\":\"cifar100.py\"}\u001b[0m\n",
      "\u001b[34mSM_USER_ARGS=[\"--epochs\",\"1\"]\u001b[0m\n",
      "\u001b[34mSM_OUTPUT_INTERMEDIATE_DIR=/opt/ml/output/intermediate\u001b[0m\n",
      "\u001b[34mSM_CHANNEL_TRAINING=/opt/ml/input/data/training\u001b[0m\n",
      "\u001b[34mSM_HP_EPOCHS=1\u001b[0m\n",
      "\u001b[34mPYTHONPATH=/opt/ml/code:/opt/conda/bin:/opt/conda/lib/python36.zip:/opt/conda/lib/python3.6:/opt/conda/lib/python3.6/lib-dynload:/opt/conda/lib/python3.6/site-packages\u001b[0m\n",
      "\u001b[34mInvoking script with the following command:\u001b[0m\n",
      "\u001b[34m/opt/conda/bin/python3.6 cifar100.py --epochs 1\u001b[0m\n",
      "\u001b[34m1.7.1\u001b[0m\n",
      "\u001b[34mDevice Type: cpu\u001b[0m\n",
      "\u001b[34mLoading Cifar100 dataset\u001b[0m\n",
      "\u001b[34mFiles already downloaded and verified\u001b[0m\n",
      "\u001b[34mFiles already downloaded and verified\u001b[0m\n",
      "\u001b[34mStarting Training\u001b[0m\n",
      "\u001b[34m#015Training: 0it [00:00, ?it/s]#015Training:   0%|          | 0/1876 [00:00<?, ?it/s]#015Epoch 0:   0%|          | 0/1876 [00:00<?, ?it/s] #015Epoch 0:   3%|▎         | 50/1876 [00:32<19:58,  1.52it/s]#015Epoch 0:   3%|▎         | 50/1876 [00:32<19:58,  1.52it/s, loss=4.37, v_num=0]#015Epoch 0:   5%|▌         | 100/1876 [01:03<18:46,  1.58it/s, loss=4.37, v_num=0]#015Epoch 0:   5%|▌         | 100/1876 [01:03<18:46,  1.58it/s, loss=3.88, v_num=0]#015Epoch 0:   8%|▊         | 150/1876 [01:35<18:21,  1.57it/s, loss=3.88, v_num=0]#015Epoch 0:   8%|▊         | 150/1876 [01:35<18:21,  1.57it/s, loss=3.53, v_num=0]#015Epoch 0:  11%|█         | 200/1876 [02:06<17:42,  1.58it/s, loss=3.53, v_num=0]#015Epoch 0:  11%|█         | 200/1876 [02:06<17:42,  1.58it/s, loss=3.43, v_num=0]#015Epoch 0:  13%|█▎        | 250/1876 [02:38<17:12,  1.58it/s, loss=3.43, v_num=0]#015Epoch 0:  13%|█▎        | 250/1876 [02:38<17:12,  1.58it/s, loss=3.08, v_num=0]#015Epoch 0:  16%|█▌        | 300/1876 [03:09<16:35,  1.58it/s, loss=3.08, v_num=0]#015Epoch 0:  16%|█▌        | 300/1876 [03:09<16:35,  1.58it/s, loss=3.05, v_num=0]#015Epoch 0:  19%|█▊        | 350/1876 [03:41<16:04,  1.58it/s, loss=3.05, v_num=0]#015Epoch 0:  19%|█▊        | 350/1876 [03:41<16:04,  1.58it/s, loss=2.85, v_num=0]#015Epoch 0:  21%|██▏       | 400/1876 [04:11<15:29,  1.59it/s, loss=2.85, v_num=0]#015Epoch 0:  21%|██▏       | 400/1876 [04:11<15:29,  1.59it/s, loss=2.95, v_num=0]#015Epoch 0:  24%|██▍       | 450/1876 [04:43<14:58,  1.59it/s, loss=2.95, v_num=0]#015Epoch 0:  24%|██▍       | 450/1876 [04:43<14:58,  1.59it/s, loss=2.9, v_num=0] #015Epoch 0:  27%|██▋       | 500/1876 [05:14<14:25,  1.59it/s, loss=2.9, v_num=0]#015Epoch 0:  27%|██▋       | 500/1876 [05:14<14:25,  1.59it/s, loss=2.73, v_num=0]#015Epoch 0:  29%|██▉       | 550/1876 [05:46<13:54,  1.59it/s, loss=2.73, v_num=0]#015Epoch 0:  29%|██▉       | 550/1876 [05:46<13:54,  1.59it/s, loss=2.72, v_num=0]#015Epoch 0:  32%|███▏      | 600/1876 [06:16<13:21,  1.59it/s, loss=2.72, v_num=0]#015Epoch 0:  32%|███▏      | 600/1876 [06:16<13:21,  1.59it/s, loss=2.69, v_num=0]#015Epoch 0:  35%|███▍      | 650/1876 [06:48<12:50,  1.59it/s, loss=2.69, v_num=0]#015Epoch 0:  35%|███▍      | 650/1876 [06:48<12:50,  1.59it/s, loss=2.53, v_num=0]#015Epoch 0:  37%|███▋      | 700/1876 [07:19<12:18,  1.59it/s, loss=2.53, v_num=0]#015Epoch 0:  37%|███▋      | 700/1876 [07:19<12:18,  1.59it/s, loss=2.54, v_num=0]#015Epoch 0:  40%|███▉      | 750/1876 [07:51<11:47,  1.59it/s, loss=2.54, v_num=0]#015Epoch 0:  40%|███▉      | 750/1876 [07:51<11:47,  1.59it/s, loss=2.58, v_num=0]#015Epoch 0:  43%|████▎     | 800/1876 [08:21<11:14,  1.59it/s, loss=2.58, v_num=0]#015Epoch 0:  43%|████▎     | 800/1876 [08:21<11:14,  1.59it/s, loss=2.6, v_num=0] #015Epoch 0:  45%|████▌     | 850/1876 [08:53<10:44,  1.59it/s, loss=2.6, v_num=0]#015Epoch 0:  45%|████▌     | 850/1876 [08:53<10:44,  1.59it/s, loss=2.48, v_num=0]#015Epoch 0:  48%|████▊     | 900/1876 [09:24<10:11,  1.60it/s, loss=2.48, v_num=0]#015Epoch 0:  48%|████▊     | 900/1876 [09:24<10:11,  1.60it/s, loss=2.43, v_num=0]#015Epoch 0:  51%|█████     | 950/1876 [09:55<09:40,  1.60it/s, loss=2.43, v_num=0]#015Epoch 0:  51%|█████     | 950/1876 [09:55<09:40,  1.60it/s, loss=2.44, v_num=0]#015Epoch 0:  53%|█████▎    | 1000/1876 [10:25<09:08,  1.60it/s, loss=2.44, v_num=0]#015Epoch 0:  53%|█████▎    | 1000/1876 [10:25<09:08,  1.60it/s, loss=2.48, v_num=0]#015Epoch 0:  56%|█████▌    | 1050/1876 [10:57<08:37,  1.60it/s, loss=2.48, v_num=0]#015Epoch 0:  56%|█████▌    | 1050/1876 [10:57<08:37,  1.60it/s, loss=2.38, v_num=0]#015Epoch 0:  59%|█████▊    | 1100/1876 [11:29<08:06,  1.59it/s, loss=2.38, v_num=0]#015Epoch 0:  59%|█████▊    | 1100/1876 [11:29<08:06,  1.59it/s, loss=2.47, v_num=0]#015Epoch 0:  61%|██████▏   | 1150/1876 [12:00<07:34,  1.60it/s, loss=2.47, v_num=0]#015Epoch 0:  61%|██████▏   | 1150/1876 [12:00<07:34,  1.60it/s, loss=2.25, v_num=0]#015Epoch 0:  64%|██████▍   | 1200/1876 [12:32<07:03,  1.60it/s, loss=2.25, v_num=0]#015Epoch 0:  64%|██████▍   | 1200/1876 [12:32<07:03,  1.60it/s, loss=2.36, v_num=0]#015Epoch 0:  67%|██████▋   | 1250/1876 [13:02<06:31,  1.60it/s, loss=2.36, v_num=0]#015Epoch 0:  67%|██████▋   | 1250/1876 [13:02<06:31,  1.60it/s, loss=2.33, v_num=0]#015Epoch 0:  69%|██████▉   | 1300/1876 [13:34<06:00,  1.60it/s, loss=2.33, v_num=0]#015Epoch 0:  69%|██████▉   | 1300/1876 [13:34<06:00,  1.60it/s, loss=2.41, v_num=0]#015Epoch 0:  72%|███████▏  | 1350/1876 [14:04<05:28,  1.60it/s, loss=2.41, v_num=0]#015Epoch 0:  72%|███████▏  | 1350/1876 [14:04<05:28,  1.60it/s, loss=2.29, v_num=0]#015Epoch 0:  75%|███████▍  | 1400/1876 [14:35<04:57,  1.60it/s, loss=2.29, v_num=0]#015Epoch 0:  75%|███████▍  | 1400/1876 [14:35<04:57,  1.60it/s, loss=2.36, v_num=0]#015Epoch 0:  77%|███████▋  | 1450/1876 [15:05<04:26,  1.60it/s, loss=2.36, v_num=0]#015Epoch 0:  77%|███████▋  | 1450/1876 [15:05<04:26,  1.60it/s, loss=2.25, v_num=0]#015Epoch 0:  80%|███████▉  | 1500/1876 [15:37<03:54,  1.60it/s, loss=2.25, v_num=0]#015Epoch 0:  80%|███████▉  | 1500/1876 [15:37<03:54,  1.60it/s, loss=2.18, v_num=0]#015Epoch 0:  83%|████████▎ | 1550/1876 [16:07<03:23,  1.60it/s, loss=2.18, v_num=0]#015Epoch 0:  83%|████████▎ | 1550/1876 [16:07<03:23,  1.60it/s, loss=2.18, v_num=0]#015Epoch 0:  85%|████████▌ | 1600/1876 [16:15<02:48,  1.64it/s, loss=2.18, v_num=0]\u001b[0m\n",
      "\u001b[34m#015Validating: 0it [00:00, ?it/s]#033[A\u001b[0m\n",
      "\u001b[34m#015Validating:   0%|          | 0/313 [00:00<?, ?it/s]#033[A\u001b[0m\n",
      "\u001b[34m#015Validating:  16%|█▌        | 50/313 [00:05<00:29,  8.94it/s]#033[A#015Epoch 0:  88%|████████▊ | 1650/1876 [16:20<02:14,  1.68it/s, loss=2.18, v_num=0]\u001b[0m\n",
      "\u001b[34m#015Validating:  32%|███▏      | 100/313 [00:11<00:24,  8.61it/s]#033[A#015Epoch 0:  91%|█████████ | 1700/1876 [16:26<01:42,  1.72it/s, loss=2.18, v_num=0]\u001b[0m\n",
      "\u001b[34m#015Validating:  48%|████▊     | 150/313 [00:17<00:19,  8.49it/s]#033[A#015Epoch 0:  93%|█████████▎| 1750/1876 [16:32<01:11,  1.76it/s, loss=2.18, v_num=0]\u001b[0m\n",
      "\n",
      "2022-01-29 14:28:29 Uploading - Uploading generated training model\u001b[34m#015Validating:  64%|██████▍   | 200/313 [00:22<00:12,  8.79it/s]#033[A#015Epoch 0:  96%|█████████▌| 1800/1876 [16:38<00:42,  1.80it/s, loss=2.18, v_num=0]\u001b[0m\n",
      "\u001b[34m#015Validating:  80%|███████▉  | 250/313 [00:28<00:07,  9.00it/s]#033[A#015Epoch 0:  99%|█████████▊| 1850/1876 [16:43<00:14,  1.84it/s, loss=2.18, v_num=0]\u001b[0m\n",
      "\u001b[34m#015Validating:  96%|█████████▌| 300/313 [00:33<00:01,  9.15it/s]#033[A\u001b[0m\n",
      "\u001b[34m#015Validating: 100%|██████████| 313/313 [00:34<00:00,  9.23it/s]#033[A#015Epoch 0: 100%|██████████| 1876/1876 [16:50<00:00,  1.86it/s, loss=2.33, v_num=0]\u001b[0m\n",
      "\u001b[34m#015                                                             #033[A#015Epoch 0: 100%|██████████| 1876/1876 [16:50<00:00,  1.86it/s, loss=2.33, v_num=0]Epoch: 1, Train Acc: 32.19200134277344, Train Loss: 2.7241499423980713,  Valid Acc: 45.529998779296875, Valid Loss: 2.047229528427124\u001b[0m\n",
      "\u001b[34m#015Epoch 0: 100%|██████████| 1876/1876 [16:50<00:00,  1.86it/s, loss=2.33, v_num=0]\u001b[0m\n",
      "\u001b[34mFinished Training\u001b[0m\n",
      "\u001b[34mWARNING: Running pip as root will break packages and permissions. You should install packages reliably by using venv: https://pip.pypa.io/warnings/venv\u001b[0m\n",
      "\u001b[34mGPU available: False, used: False\u001b[0m\n",
      "\u001b[34mTPU available: False, using: 0 TPU cores\u001b[0m\n",
      "\u001b[34mIPU available: False, using: 0 IPUs\u001b[0m\n",
      "\u001b[34mDownloading: \"https://download.pytorch.org/models/resnet34-333f7ec4.pth\" to /root/.cache/torch/hub/checkpoints/resnet34-333f7ec4.pth\u001b[0m\n",
      "\u001b[34mMissing logger folder: /opt/ml/code/lightning_logs\n",
      "  | Name       | Type         | Params\u001b[0m\n",
      "\u001b[34m--------------------------------------------\u001b[0m\n",
      "\u001b[34m0 | model      | CIFAR100Base | 21.3 M\u001b[0m\n",
      "\u001b[34m1 | train_accm | Accuracy     | 0     \u001b[0m\n",
      "\u001b[34m2 | valid_accm | Accuracy     | 0     \u001b[0m\n",
      "\u001b[34m--------------------------------------------\u001b[0m\n",
      "\u001b[34m21.3 M    Trainable params\u001b[0m\n",
      "\u001b[34m0         Non-trainable params\u001b[0m\n",
      "\u001b[34m21.3 M    Total params\u001b[0m\n",
      "\u001b[34m85.344    Total estimated model params size (MB)\u001b[0m\n",
      "\u001b[34m2022-01-29 14:28:27,749 sagemaker-training-toolkit INFO     Reporting training SUCCESS\u001b[0m\n",
      "\n",
      "2022-01-29 14:28:47 Completed - Training job completed\n",
      "Training seconds: 1115\n",
      "Billable seconds: 1115\n"
     ]
    }
   ],
   "source": [
    "estimator.fit({'training': training_input_path})"
   ]
  },
  {
   "cell_type": "code",
   "execution_count": 10,
   "id": "ab8ee5fa",
   "metadata": {},
   "outputs": [
    {
     "data": {
      "text/plain": [
       "'s3://sagemaker-us-east-2-410330524497/cifar100-resnet34-2022-01-29-14-07-41-844/output/model.tar.gz'"
      ]
     },
     "execution_count": 10,
     "metadata": {},
     "output_type": "execute_result"
    }
   ],
   "source": [
    "model_data = estimator.model_data\n",
    "model_data"
   ]
  },
  {
   "cell_type": "markdown",
   "id": "35bc8454",
   "metadata": {},
   "source": [
    "## Inference"
   ]
  },
  {
   "cell_type": "code",
   "execution_count": 11,
   "id": "38b7497e",
   "metadata": {},
   "outputs": [
    {
     "name": "stdout",
     "output_type": "stream",
     "text": [
      "-------!"
     ]
    }
   ],
   "source": [
    "predictor = estimator.deploy(initial_instance_count=1, instance_type='ml.m4.xlarge')"
   ]
  },
  {
   "cell_type": "code",
   "execution_count": 12,
   "id": "02b92e89",
   "metadata": {},
   "outputs": [
    {
     "name": "stderr",
     "output_type": "stream",
     "text": [
      "Clipping input data to the valid range for imshow with RGB data ([0..1] for floats or [0..255] for integers).\n"
     ]
    },
    {
     "name": "stdout",
     "output_type": "stream",
     "text": [
      "GroundTruth:  mountain forest seal mushroom\n",
      "Predicted:  road forest cattle otter\n"
     ]
    },
    {
     "data": {
      "image/png": "[encoded data removed]",
      "text/plain": [
       "<Figure size 432x288 with 1 Axes>"
      ]
     },
     "metadata": {
      "needs_background": "light"
     },
     "output_type": "display_data"
    }
   ],
   "source": [
    "import numpy as np\n",
    "import torchvision, torch\n",
    "\n",
    "# get some test images\n",
    "dataiter = iter(testloader)\n",
    "images, labels = dataiter.next()\n",
    "\n",
    "# print images\n",
    "imshow(torchvision.utils.make_grid(images))\n",
    "print('GroundTruth: ', ' '.join('%4s' % classes[labels[j]] for j in range(4)))\n",
    "\n",
    "outputs = predictor.predict(images.numpy())\n",
    "\n",
    "_, predicted = torch.max(torch.from_numpy(np.array(outputs)), 1)\n",
    "\n",
    "print('Predicted: ', ' '.join('%4s' % classes[predicted[j]]\n",
    "                              for j in range(4)))"
   ]
  },
  {
   "cell_type": "code",
   "execution_count": 13,
   "id": "c19a4ce1",
   "metadata": {},
   "outputs": [],
   "source": [
    "predictor.delete_endpoint()"
   ]
  }
 ],
 "metadata": {
  "kernelspec": {
   "display_name": "conda_pytorch_latest_p36",
   "language": "python",
   "name": "conda_pytorch_latest_p36"
  },
  "language_info": {
   "codemirror_mode": {
    "name": "ipython",
    "version": 3
   },
   "file_extension": ".py",
   "mimetype": "text/x-python",
   "name": "python",
   "nbconvert_exporter": "python",
   "pygments_lexer": "ipython3",
   "version": "3.6.13"
  }
 },
 "nbformat": 4,
 "nbformat_minor": 5
}
